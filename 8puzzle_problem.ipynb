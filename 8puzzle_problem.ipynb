{
 "cells": [
  {
   "cell_type": "markdown",
   "id": "e8d66a27-0ec2-4bd9-9989-e57e9aee959c",
   "metadata": {},
   "source": [
    "<h1>A STAR Algorithm</h1>\n",
    "<h3>8 Puzzle Problem</h3>"
   ]
  },
  {
   "cell_type": "code",
   "execution_count": null,
   "id": "f4c8a778-2287-4f00-9601-d742e0de119f",
   "metadata": {},
   "outputs": [],
   "source": [
    "NAME : HARSHAL SADANAND MALI\n",
    "ROLL : SYAIMLA77\n",
    "ASSIGNMENT NO 3"
   ]
  },
  {
   "cell_type": "code",
   "execution_count": 1,
   "id": "4f0c26be-91ee-41b0-8211-3b6ca5a711dc",
   "metadata": {},
   "outputs": [],
   "source": [
    "class Node:\n",
    "    def __init__(self, data, level, fval):\n",
    "        self.data = data\n",
    "        self.level = level\n",
    "        self.fval = fval\n",
    "\n",
    "    def generate_child(self):\n",
    "        x, y = self.find(self.data, '_')\n",
    "        val_list = [[x, y-1], [x, y+1], [x-1, y], [x+1, y]]\n",
    "        children = []\n",
    "        for i in val_list:\n",
    "            child = self.shuffle(self.data, x, y, i[0], i[1])\n",
    "            if child is not None:\n",
    "                child_node = Node(child, self.level+1, 0)\n",
    "                children.append(child_node)\n",
    "        return children\n",
    "\n",
    "    def shuffle(self, puz, x1, y1, x2, y2):\n",
    "        if 0 <= x2 < len(self.data) and 0 <= y2 < len(self.data):\n",
    "            temp_puz = self.copy(puz)\n",
    "            temp = temp_puz[x2][y2]\n",
    "            temp_puz[x2][y2] = temp_puz[x1][y1]\n",
    "            temp_puz[x1][y1] = temp\n",
    "            return temp_puz\n",
    "        else:\n",
    "            return None\n",
    "\n",
    "    def copy(self, root):\n",
    "        temp = [row[:] for row in root]\n",
    "        return temp\n",
    "\n",
    "    def find(self, puz, x):\n",
    "        for i in range(len(self.data)):\n",
    "            for j in range(len(self.data)):\n",
    "                if puz[i][j] == x:\n",
    "                    return i, j\n",
    "\n",
    "\n"
   ]
  },
  {
   "cell_type": "code",
   "execution_count": 2,
   "id": "af7d5c85-5acc-4737-a6b7-9c74b78fb99c",
   "metadata": {},
   "outputs": [
    {
     "name": "stdout",
     "output_type": "stream",
     "text": [
      "Enter the start state matrix\n"
     ]
    },
    {
     "name": "stdin",
     "output_type": "stream",
     "text": [
      " 1 2 3\n",
      " _ 4 6\n",
      " 7 5 8\n"
     ]
    },
    {
     "name": "stdout",
     "output_type": "stream",
     "text": [
      "Enter the goal state matrix\n"
     ]
    },
    {
     "name": "stdin",
     "output_type": "stream",
     "text": [
      " 1 2 3\n",
      " 4 5 6\n",
      " 7 8 _\n"
     ]
    },
    {
     "name": "stdout",
     "output_type": "stream",
     "text": [
      "\n",
      "\n",
      "\n",
      "\n",
      "  | \n",
      "  | \n",
      " \\'/ \n",
      "\n",
      "1 2 3\n",
      "_ 4 6\n",
      "7 5 8\n",
      "\n",
      "  | \n",
      "  | \n",
      " \\'/ \n",
      "\n",
      "1 2 3\n",
      "4 _ 6\n",
      "7 5 8\n",
      "\n",
      "  | \n",
      "  | \n",
      " \\'/ \n",
      "\n",
      "1 2 3\n",
      "4 5 6\n",
      "7 _ 8\n",
      "\n",
      "  | \n",
      "  | \n",
      " \\'/ \n",
      "\n",
      "1 2 3\n",
      "4 5 6\n",
      "7 8 _\n"
     ]
    }
   ],
   "source": [
    "\n",
    "class Puzzle:\n",
    "    def __init__(self, size):\n",
    "        self.n = size\n",
    "        self.open = []\n",
    "        self.closed = []\n",
    "\n",
    "    def accept(self):\n",
    "        puz = []\n",
    "        for _ in range(self.n):\n",
    "            temp = input().split()\n",
    "            puz.append(temp)\n",
    "        return puz\n",
    "\n",
    "    def f(self, start, goal):\n",
    "        return self.h(start.data, goal) + start.level\n",
    "\n",
    "    def h(self, start, goal):\n",
    "        temp = 0\n",
    "        for i in range(self.n):\n",
    "            for j in range(self.n):\n",
    "                if start[i][j] != goal[i][j] and start[i][j] != '_':\n",
    "                    temp += 1\n",
    "        return temp\n",
    "\n",
    "    def process(self):\n",
    "        print(\"Enter the start state matrix\")\n",
    "        start = self.accept()\n",
    "        print(\"Enter the goal state matrix\")\n",
    "        goal = self.accept()\n",
    "\n",
    "        start = Node(start, 0, self.f(Node(start, 0, 0), goal))\n",
    "        self.open.append(start)\n",
    "        print(\"\\n\\n\")\n",
    "        while True:\n",
    "            curr = self.open[0]\n",
    "            print(\"\\n  | \\n  | \\n \\\\'/ \\n\")\n",
    "            for i in curr.data:\n",
    "                print(\" \".join(i))\n",
    "            if self.h(curr.data, goal) == 0:\n",
    "                break\n",
    "            for child in curr.generate_child():\n",
    "                child.fval = self.f(child, goal)\n",
    "                self.open.append(child)\n",
    "            self.closed.append(curr)\n",
    "            del self.open[0]\n",
    "            self.open.sort(key=lambda x: x.fval, reverse=False)\n",
    "\n",
    "\n",
    "puz = Puzzle(3)\n",
    "puz.process()"
   ]
  }
 ],
 "metadata": {
  "kernelspec": {
   "display_name": "Python 3 (ipykernel)",
   "language": "python",
   "name": "python3"
  },
  "language_info": {
   "codemirror_mode": {
    "name": "ipython",
    "version": 3
   },
   "file_extension": ".py",
   "mimetype": "text/x-python",
   "name": "python",
   "nbconvert_exporter": "python",
   "pygments_lexer": "ipython3",
   "version": "3.11.7"
  }
 },
 "nbformat": 4,
 "nbformat_minor": 5
}
