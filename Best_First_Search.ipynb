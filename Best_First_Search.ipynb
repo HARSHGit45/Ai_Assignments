{
 "cells": [
  {
   "cell_type": "markdown",
   "metadata": {},
   "source": [
    "# ASTAR ALGORITHM ~ BEST FIRST SEARCH"
   ]
  },
  {
   "cell_type": "markdown",
   "metadata": {},
   "source": [
    "NAME : HARSHAL SADANAND MALI\n",
    "ASSIGNMENT NO 2\n",
    "ROLL NO : SYAIMLA77"
   ]
  },
  {
   "cell_type": "code",
   "execution_count": 63,
   "metadata": {},
   "outputs": [],
   "source": [
    "class node:\n",
    "    def __init__(self, f=0, g=999, h=0, name=0):\n",
    "        self.f = f\n",
    "        self.g = g\n",
    "        self.h = h\n",
    "        self.name = name\n",
    "        self.neighbours = []\n",
    "\n",
    "    def setneighbours(self, neighbours=[]):\n",
    "        self.neighbours = neighbours\n",
    "\n",
    "\n"
   ]
  },
  {
   "cell_type": "code",
   "execution_count": 64,
   "metadata": {
    "jp-MarkdownHeadingCollapsed": true
   },
   "outputs": [
    {
     "name": "stdin",
     "output_type": "stream",
     "text": [
      "Enter the number of nodes:  6\n",
      "Enter the adjacency matrix row 1 :  0 1 0 0 0 10\n",
      "Enter the adjacency matrix row 2 :  1 0 3 2 0 0\n",
      "Enter the adjacency matrix row 3 :  0 3 0 0 3 0\n",
      "Enter the adjacency matrix row 4 :  0 2 0 0 2 2\n",
      "Enter the adjacency matrix row 5 :  0 0 3 2 0 4\n",
      "Enter the adjacency matrix row 6 :  10 0 0 2 4 0\n"
     ]
    }
   ],
   "source": [
    "\n",
    "num_nodes = int(input(\"Enter the number of nodes: \"))\n",
    "graph = []\n",
    "\n",
    "for i in range(num_nodes):\n",
    "    row = list(map(int, input(f\"Enter the adjacency matrix row {i + 1} : \").split()))\n",
    "    graph.append(row)\n",
    "\n",
    "\n",
    "heuristics = [5, 3, 4, 2, 6, 0]\n",
    "\n",
    "s = node(h=heuristics[0], name=0)\n",
    "a = node(h=heuristics[1], name=1)\n",
    "b = node(h=heuristics[2], name=2)\n",
    "c = node(h=heuristics[3], name=3)\n",
    "d = node(h=heuristics[4], name=4)\n",
    "g = node(h=heuristics[5], name=5)\n",
    "\n",
    "s.setneighbours([g, a])\n",
    "a.setneighbours([c, b, s])\n",
    "b.setneighbours([a, d])\n",
    "c.setneighbours([a, g, d])\n",
    "d.setneighbours([b, c, g])\n",
    "g.setneighbours([s, c, d])\n",
    "\n",
    "start = s\n",
    "goal = g"
   ]
  },
  {
   "cell_type": "code",
   "execution_count": 65,
   "metadata": {},
   "outputs": [],
   "source": [
    "def astar(start,goal):\n",
    "    open_list=[start]\n",
    "    closed_list=[]\n",
    "    \n",
    "    \n",
    "    came={}\n",
    "    start.g=0\n",
    "    start.f=start.h\n",
    "    \n",
    "    \n",
    "    while len(open_list)!=0:\n",
    "        \n",
    "        curr=findlowf1(open_list)\n",
    "        \n",
    "        if curr==goal:\n",
    "            return constpath(came,curr)\n",
    "        \n",
    "        open_list.remove(curr)\n",
    "        closed_list.append(curr)\n",
    "        \n",
    "        for n in curr.neighbours:\n",
    "            if n  in closed_list:\n",
    "                continue\n",
    "            if n not in open_list:\n",
    "                open_list.append(n)\n",
    "                \n",
    "            gscore = curr.g + graph[curr.name][n.name]\n",
    "            \n",
    "            if gscore>=n.g:\n",
    "                continue\n",
    "            came[n]=curr\n",
    "            n.g = gscore\n",
    "            n.f = n.g + n.h\n",
    "            \n",
    "            \n",
    "    return -1\n"
   ]
  },
  {
   "cell_type": "code",
   "execution_count": 66,
   "metadata": {},
   "outputs": [],
   "source": [
    "def findlowf1(open_list):\n",
    "    fScore = 999999\n",
    "    node = None\n",
    "    for eachnode in open_list:\n",
    "        if eachnode.f < fScore:\n",
    "            fScore = eachnode.f\n",
    "            node = eachnode\n",
    "    return node\n",
    "\n",
    "\n",
    "def constpath(cameFrom, current):\n",
    "    totalPath = [current]\n",
    "    while current in cameFrom.keys():\n",
    "        current = cameFrom[current]\n",
    "        totalPath.append(current)\n",
    "\n",
    "   \n",
    "    totalPath.reverse()\n",
    "\n",
    " \n",
    "    name_mapping = {0: 's', 1: 'a', 2: 'b', 3: 'c', 4: 'd', 5: 'g'}\n",
    "\n",
    "    for node in totalPath:\n",
    "        print(f\"Node {name_mapping[node.name]}: f={node.f}, g={node.g}, h={node.h}\")\n",
    "\n",
    "    return totalPath\n"
   ]
  },
  {
   "cell_type": "code",
   "execution_count": 67,
   "metadata": {},
   "outputs": [
    {
     "name": "stdout",
     "output_type": "stream",
     "text": [
      "Node s: f=5, g=0, h=5\n",
      "Node a: f=4, g=1, h=3\n",
      "Node c: f=5, g=3, h=2\n",
      "Node g: f=5, g=5, h=0\n"
     ]
    },
    {
     "data": {
      "text/plain": [
       "[<__main__.node at 0x1862c552c90>,\n",
       " <__main__.node at 0x1862c4d2110>,\n",
       " <__main__.node at 0x1862c4c0610>,\n",
       " <__main__.node at 0x1862c4c2d10>]"
      ]
     },
     "execution_count": 67,
     "metadata": {},
     "output_type": "execute_result"
    }
   ],
   "source": [
    "path = astar(start, goal)\n",
    "\n",
    "\n",
    "path"
   ]
  },
  {
   "cell_type": "code",
   "execution_count": null,
   "metadata": {},
   "outputs": [],
   "source": []
  },
  {
   "cell_type": "code",
   "execution_count": null,
   "metadata": {},
   "outputs": [],
   "source": []
  }
 ],
 "metadata": {
  "kernelspec": {
   "display_name": "Python 3 (ipykernel)",
   "language": "python",
   "name": "python3"
  },
  "language_info": {
   "codemirror_mode": {
    "name": "ipython",
    "version": 3
   },
   "file_extension": ".py",
   "mimetype": "text/x-python",
   "name": "python",
   "nbconvert_exporter": "python",
   "pygments_lexer": "ipython3",
   "version": "3.11.7"
  }
 },
 "nbformat": 4,
 "nbformat_minor": 4
}
