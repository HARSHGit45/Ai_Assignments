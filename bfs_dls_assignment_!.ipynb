{
 "cells": [
  {
   "cell_type": "markdown",
   "id": "84c67285-97f8-41ba-822e-f280ff0d0d49",
   "metadata": {},
   "source": [
    "ASSIGNMENT NO : 1\n"
   ]
  },
  {
   "cell_type": "markdown",
   "id": "fa6979a6-37bc-42b1-828f-477558a088df",
   "metadata": {},
   "source": [
    "SYAIMLA77 : HARSHAL SADANAND MALI\n"
   ]
  },
  {
   "cell_type": "markdown",
   "id": "79a5f377-f997-49b6-af59-0a0755916eb4",
   "metadata": {},
   "source": [
    "# BREADTH FIRST SEARCH"
   ]
  },
  {
   "cell_type": "code",
   "execution_count": 23,
   "id": "27551bb4-82f5-4913-82db-711d1e1d6c45",
   "metadata": {},
   "outputs": [],
   "source": [
    "graph={\n",
    "'a':['e','b'],\n",
    "'b':['e','d','c'],\n",
    "'c':['d'],\n",
    "'e':[],\n",
    "'d':[]\n",
    "}"
   ]
  },
  {
   "cell_type": "code",
   "execution_count": 24,
   "id": "a854ab62-54cb-4f0f-ace8-0f781dd60f0d",
   "metadata": {},
   "outputs": [],
   "source": [
    "visited=[]\n",
    "queue=[]"
   ]
  },
  {
   "cell_type": "code",
   "execution_count": 25,
   "id": "d5c5c1e4-cc26-4059-9c25-34efb2001cb8",
   "metadata": {},
   "outputs": [],
   "source": [
    "def bfs(graph,visited,strt):\n",
    "    queue.append(strt)\n",
    "    visited.append(strt)\n",
    "    while queue:\n",
    "        n=queue.pop()\n",
    "        print(n)\n",
    "        for nh in graph[n]:\n",
    "            if nh not in visited:\n",
    "                queue.append(nh)\n",
    "                visited.append(nh)\n",
    "                "
   ]
  },
  {
   "cell_type": "code",
   "execution_count": 26,
   "id": "d23c9c58-b9fd-48f1-bd3f-99ae5e3cde5c",
   "metadata": {},
   "outputs": [
    {
     "name": "stdout",
     "output_type": "stream",
     "text": [
      "a\n",
      "b\n",
      "c\n",
      "d\n",
      "e\n"
     ]
    }
   ],
   "source": [
    "bfs(graph,visited,'a')"
   ]
  },
  {
   "cell_type": "markdown",
   "id": "f5ed2e41-d9ec-4343-a4d1-4bafb4958dd1",
   "metadata": {},
   "source": [
    "# DEPTH LIMITED SEARCH"
   ]
  },
  {
   "cell_type": "code",
   "execution_count": 1,
   "id": "6923898d-1720-4e62-8702-37001dcbf63f",
   "metadata": {},
   "outputs": [],
   "source": [
    "graph1={\n",
    "'a':['b','c'],\n",
    "'b':['d','e'],\n",
    "'c':['f'],\n",
    "'d':[],\n",
    "'e':['f'],\n",
    "'f':[]\n",
    "}\n",
    "\n",
    "visited1=[]"
   ]
  },
  {
   "cell_type": "code",
   "execution_count": 2,
   "id": "83287d06-19c0-4855-91b6-11bf1e261427",
   "metadata": {},
   "outputs": [],
   "source": [
    "def dls(graph, visited, start, depth_limit):\n",
    "    if depth_limit == 0:\n",
    "        return\n",
    "    \n",
    "    visited.append(start)\n",
    "    print(start)\n",
    "\n",
    "    for neighbor in graph[start]:\n",
    "        if neighbor not in visited:\n",
    "            dls(graph, visited, neighbor, depth_limit - 1)\n"
   ]
  },
  {
   "cell_type": "code",
   "execution_count": 3,
   "id": "eb7a7f60-c846-4865-b3ca-11a4058fcf5b",
   "metadata": {
    "scrolled": true
   },
   "outputs": [
    {
     "name": "stdout",
     "output_type": "stream",
     "text": [
      "a\n",
      "b\n",
      "c\n"
     ]
    }
   ],
   "source": [
    "depth_limit = 2  \n",
    "dls(graph1, visited1, 'a', depth_limit)"
   ]
  }
 ],
 "metadata": {
  "kernelspec": {
   "display_name": "Python 3 (ipykernel)",
   "language": "python",
   "name": "python3"
  },
  "language_info": {
   "codemirror_mode": {
    "name": "ipython",
    "version": 3
   },
   "file_extension": ".py",
   "mimetype": "text/x-python",
   "name": "python",
   "nbconvert_exporter": "python",
   "pygments_lexer": "ipython3",
   "version": "3.11.7"
  }
 },
 "nbformat": 4,
 "nbformat_minor": 5
}
