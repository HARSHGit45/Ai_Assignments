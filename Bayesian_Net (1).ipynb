{
 "cells": [
  {
   "cell_type": "markdown",
   "id": "40e8b5a1-922d-4d74-bb69-66cd57eb8c1e",
   "metadata": {},
   "source": [
    "<H2>BAYESIAN NETWORK WITH MANUAL FUNCTIONS</H2>"
   ]
  },
  {
   "cell_type": "code",
   "execution_count": 18,
   "id": "db2a0111-151c-4806-8be0-5b938ec95b59",
   "metadata": {},
   "outputs": [],
   "source": [
    "diff_lvl = {'e0': 0.7, 'e1': 0.3}\n",
    "iq_lvl = {'i0': 0.8, 'i1': 0.2}\n",
    "\n",
    "marks_cpd = {\n",
    "    ('e0', 'i0'): {'m0': 0.6, 'm1': 0.4},\n",
    "    ('e1', 'i0'): {'m0': 0.9, 'm1': 0.1},\n",
    "    ('e0', 'i1'): {'m0': 0.5, 'm1': 0.5},\n",
    "    ('e1', 'i1'): {'m0': 0.8, 'm1': 0.2}\n",
    "}\n",
    "\n",
    "admission_cpd = {\n",
    "    'a0': {'m0': 0.6, 'm1': 0.9},\n",
    "    'a1': {'m0': 0.4, 'm1': 0.1}\n",
    "}\n",
    "\n",
    "\n"
   ]
  },
  {
   "cell_type": "code",
   "execution_count": 1,
   "id": "2b50c6ce-9e6a-4758-98a2-bc0e8ec8e7ae",
   "metadata": {},
   "outputs": [
    {
     "data": {
      "text/html": [
       "<img src=\"https://d1jnx9ba8s6j9r.cloudfront.net/blog/wp-content/uploads/2019/07/Bayesian-Networks-Example-Bayesian-Networks-Edureka.png\" width=\"600\" height=\"600\"/>"
      ],
      "text/plain": [
       "<IPython.core.display.Image object>"
      ]
     },
     "execution_count": 1,
     "metadata": {},
     "output_type": "execute_result"
    }
   ],
   "source": [
    "from IPython.display import Image\n",
    "\n",
    "Image(url='https://d1jnx9ba8s6j9r.cloudfront.net/blog/wp-content/uploads/2019/07/Bayesian-Networks-Example-Bayesian-Networks-Edureka.png', width=600, height=600)\n"
   ]
  },
  {
   "cell_type": "code",
   "execution_count": 19,
   "id": "b8d15be9-991c-42cf-a0cb-f6cc1c56e8ea",
   "metadata": {},
   "outputs": [],
   "source": [
    "def joint_probability(difficulty, iq, marks, admission):\n",
    "    return diff_lvl[difficulty] * iq_lvl[iq] * marks_cpd[(difficulty, iq)][marks] * admission_cpd[admission][marks]"
   ]
  },
  {
   "cell_type": "code",
   "execution_count": 20,
   "id": "c02ff218-6aeb-43c5-a88e-4e685b3bb9d6",
   "metadata": {},
   "outputs": [
    {
     "name": "stdout",
     "output_type": "stream",
     "text": [
      "Result : a0 : 0.0224\n"
     ]
    }
   ],
   "source": [
    "\n",
    "def conditional_probability(query_variable, given_variables):\n",
    " \n",
    "    difficulty = given_variables['E']\n",
    "    iq = given_variables['I']\n",
    "    marks = given_variables['M']\n",
    "    \n",
    "   \n",
    "    joint_prob_given = 1.0\n",
    "    joint_prob_given *= joint_probability(difficulty, iq, marks, query_variable)\n",
    "\n",
    "  \n",
    "    joint_prob_query_given = 1.0\n",
    "    for query_value in admission_cpd:\n",
    "        joint_prob_query_given *= joint_probability(given_variables['E'], given_variables['I'], given_variables['M'], query_value)\n",
    "\n",
    "\n",
    "    return joint_prob_query_given / joint_prob_given\n",
    "\n",
    "query_variable = 'a0'\n",
    "given_variables = {'E': 'e0', 'I': 'i0', 'M': 'm1'}\n",
    "result = conditional_probability(query_variable, given_variables)\n",
    "print(\"Result : a0 :\",result )\n"
   ]
  },
  {
   "cell_type": "code",
   "execution_count": null,
   "id": "80cea159-0bde-4066-8081-a3a5a06ae217",
   "metadata": {},
   "outputs": [],
   "source": []
  }
 ],
 "metadata": {
  "kernelspec": {
   "display_name": "Python 3 (ipykernel)",
   "language": "python",
   "name": "python3"
  },
  "language_info": {
   "codemirror_mode": {
    "name": "ipython",
    "version": 3
   },
   "file_extension": ".py",
   "mimetype": "text/x-python",
   "name": "python",
   "nbconvert_exporter": "python",
   "pygments_lexer": "ipython3",
   "version": "3.11.9"
  }
 },
 "nbformat": 4,
 "nbformat_minor": 5
}
