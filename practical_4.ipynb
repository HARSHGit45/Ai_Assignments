{
 "cells": [
  {
   "cell_type": "markdown",
   "metadata": {},
   "source": [
    "# HILL CLIMBING PROBLEM"
   ]
  },
  {
   "cell_type": "markdown",
   "metadata": {},
   "source": [
    "NAME : Harshal Sadanand Mali\n",
    " ROLL : SYAIMLA77"
   ]
  },
  {
   "cell_type": "code",
   "execution_count": 53,
   "metadata": {},
   "outputs": [],
   "source": [
    "import numpy\n",
    "import copy\n",
    "\n",
    "visited_state=[]"
   ]
  },
  {
   "cell_type": "code",
   "execution_count": 54,
   "metadata": {},
   "outputs": [],
   "source": [
    "def heuristic(curr_state,goal_state):\n",
    "    goal=goal_state[3]\n",
    "    val=0\n",
    "    for i in range(len(curr_state)):\n",
    "        check_val=curr_state[i]\n",
    "        if len(check_val)>0:\n",
    "            for j in range(len(check_val)):\n",
    "                if check_val[j]!=goal[j]:\n",
    "                    val-=j\n",
    "                else:       \n",
    "                    val+=j\n",
    "    return val"
   ]
  },
  {
   "cell_type": "code",
   "execution_count": 55,
   "metadata": {},
   "outputs": [],
   "source": [
    "def genchild(curr_state,ph_val,goal_state):\n",
    "    global visited_state   \n",
    "    state=copy.deepcopy(curr_state)\n",
    "    for i in range(len(state)):\n",
    "        temp=copy.deepcopy(state)\n",
    "        if len(temp[i])>0:\n",
    "            element=temp[i].pop()\n",
    "            for j in range(len(temp)):\n",
    "                temp1=copy.deepcopy(temp)\n",
    "                if j!=i:\n",
    "                    temp1[j]=temp1[j]+[element]\n",
    "                    if temp1 not in visited_state:\n",
    "                        chval=heuristic(temp1,goal_state)\n",
    "                        if chval>ph_val:\n",
    "                            child=copy.deepcopy(temp1)\n",
    "                            return child\n",
    "    return 0\n",
    "        "
   ]
  },
  {
   "cell_type": "code",
   "execution_count": 56,
   "metadata": {},
   "outputs": [],
   "source": [
    "def solution(init_state,goal_state):\n",
    "    global visited_state\n",
    "    \n",
    "    if(init_state==goal_state):\n",
    "        print(\"Its already the solution!!\")\n",
    "        print(goal_state)\n",
    "        return\n",
    "    curr_state=copy.deepcopy(init_state)\n",
    "    while(True):\n",
    "        visited_state.append(copy.deepcopy(curr_state))\n",
    "        print(curr_state)\n",
    "        phval=heuristic(curr_state,goal_state)\n",
    "        child=genchild(curr_state,phval,goal_state)\n",
    "        \n",
    "        \n",
    "        \n",
    "        \n",
    "        \n",
    "        \n",
    "        \n",
    "        if child==0:\n",
    "            print(\"Final State: \",curr_state)\n",
    "            return \n",
    "        curr_state=copy.deepcopy(child)\n",
    "        "
   ]
  },
  {
   "cell_type": "code",
   "execution_count": 57,
   "metadata": {},
   "outputs": [],
   "source": [
    "def solver():\n",
    "    global visited_state\n",
    "    \n",
    "    init_state=[[],[],[],['b','c','d','a']]\n",
    "    goal_state=[[],[],[],['a','b','c','d']]\n",
    "    \n",
    "    solution(init_state,goal_state)\n",
    "    \n",
    "    "
   ]
  },
  {
   "cell_type": "code",
   "execution_count": 58,
   "metadata": {},
   "outputs": [
    {
     "name": "stdout",
     "output_type": "stream",
     "text": [
      "[[], [], [], ['b', 'c', 'd', 'a']]\n",
      "[['a'], [], [], ['b', 'c', 'd']]\n",
      "[['a', 'd'], [], [], ['b', 'c']]\n",
      "[['a'], ['d'], [], ['b', 'c']]\n",
      "[['a'], ['d'], ['c'], ['b']]\n",
      "[['a', 'b'], ['d'], ['c'], []]\n",
      "[['a', 'b', 'c'], ['d'], [], []]\n",
      "[['a', 'b', 'c', 'd'], [], [], []]\n",
      "Final State:  [['a', 'b', 'c', 'd'], [], [], []]\n"
     ]
    }
   ],
   "source": [
    "solver()"
   ]
  },
  {
   "cell_type": "code",
   "execution_count": null,
   "metadata": {},
   "outputs": [],
   "source": []
  }
 ],
 "metadata": {
  "kernelspec": {
   "display_name": "Python 3",
   "language": "python",
   "name": "python3"
  },
  "language_info": {
   "codemirror_mode": {
    "name": "ipython",
    "version": 3
   },
   "file_extension": ".py",
   "mimetype": "text/x-python",
   "name": "python",
   "nbconvert_exporter": "python",
   "pygments_lexer": "ipython3",
   "version": "3.6.5"
  }
 },
 "nbformat": 4,
 "nbformat_minor": 2
}
