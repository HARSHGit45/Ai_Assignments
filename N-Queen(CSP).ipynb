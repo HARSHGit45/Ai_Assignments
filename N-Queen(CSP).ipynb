{
 "cells": [
  {
   "cell_type": "code",
   "execution_count": 10,
   "id": "ea7e8a87-3f2d-40fd-8d21-68a4dd8605a5",
   "metadata": {},
   "outputs": [],
   "source": [
    "\n",
    "import json\n",
    "n = 8\n",
    "a = [[0 for x in range(n)] for y in range(n)]\n",
    "b = {}\n"
   ]
  },
  {
   "cell_type": "code",
   "execution_count": 11,
   "id": "044e391a-43bf-401b-9c22-2e9d326ae656",
   "metadata": {},
   "outputs": [],
   "source": [
    "def isColumnSafe(r,c):\n",
    "    while(r>=0):\n",
    "        if (a[r][c]==1):\n",
    "            return 0\n",
    "        r=r-1\n",
    "    return 1\n",
    "\n",
    "def isLeftDiagonalSafe(r,c):\n",
    "    while(r>=0 and c>=0):\n",
    "        if(a[r][c]==1):\n",
    "            return 0\n",
    "        r=r-1\n",
    "        c=c-1\n",
    "    return 1\n",
    "\n",
    "def isRightDiagonalSafe(r,c):\n",
    "    while(r>=0 and c<n):\n",
    "        if(a[r][c]==1):\n",
    "            return 0\n",
    "        r=r-1\n",
    "        c=c+1\n",
    "    return 1\n",
    "\n",
    "\n",
    "def isSafe(row,col):\n",
    "    if(isColumnSafe(row,col)== 0):\n",
    "        return 0\n",
    "    if(isLeftDiagonalSafe(row,col)==0):\n",
    "        return 0\n",
    "    if(isRightDiagonalSafe(row,col)==0):\n",
    "        return 0\n",
    "    return 1\n"
   ]
  },
  {
   "cell_type": "code",
   "execution_count": 12,
   "id": "47f7bfc7-bdc5-4cdc-b051-9ddf78b5c0c6",
   "metadata": {},
   "outputs": [],
   "source": [
    "def checkBoard(r,c):\n",
    "    if(r>=n):\n",
    "        return\n",
    "    p=0\n",
    "    while(c<n):\n",
    "        p = isSafe(r,c)\n",
    "        if(p==1):\n",
    "            a[r][c] = 1\n",
    "            b.update({r:c})\n",
    "            break\n",
    "        c=c+1\n",
    "    if(p==1):\n",
    "        checkBoard(r+1,0)   \n",
    "    else:\n",
    "        a[r-1][b.get(r-1)]=0\n",
    "        checkBoard(r-1,int(b.get(r-1))+1)  \n",
    "\n"
   ]
  },
  {
   "cell_type": "code",
   "execution_count": 13,
   "id": "f2ae689a-f12f-4645-9561-f54cf0bb52a1",
   "metadata": {},
   "outputs": [
    {
     "name": "stdout",
     "output_type": "stream",
     "text": [
      "[[1, 0, 0, 0, 0, 0, 0, 0], [0, 0, 0, 0, 1, 0, 0, 0], [0, 0, 0, 0, 0, 0, 0, 1], [0, 0, 0, 0, 0, 1, 0, 0], [0, 0, 1, 0, 0, 0, 0, 0], [0, 0, 0, 0, 0, 0, 1, 0], [0, 1, 0, 0, 0, 0, 0, 0], [0, 0, 0, 1, 0, 0, 0, 0]]\n"
     ]
    }
   ],
   "source": [
    "if __name__ == '__main__':\n",
    "    checkBoard(0,0)\n",
    "    print(a)\n",
    "    with open('data.json', 'w') as f:\n",
    "        json.dump(b, f)\n"
   ]
  },
  {
   "cell_type": "code",
   "execution_count": 16,
   "id": "fd1d6842-9abb-413d-aaff-27a6cae58aa3",
   "metadata": {},
   "outputs": [],
   "source": [
    "def print_chessboard(output_list):\n",
    "    n = len(output_list)\n",
    "\n",
    "    for row in range(n):\n",
    "        for col in range(n):\n",
    "            if output_list[row][col] == 1:\n",
    "                print(\" ♛ \", end=\"\")\n",
    "            else:\n",
    "                print(\" 0 \", end=\"\")\n",
    "        print(\"\\n\")"
   ]
  },
  {
   "cell_type": "code",
   "execution_count": 17,
   "id": "c7430aae-a13f-4036-b9b2-57943b0106a3",
   "metadata": {},
   "outputs": [
    {
     "name": "stdout",
     "output_type": "stream",
     "text": [
      " ♛  0  0  0  0  0  0  0 \n",
      "\n",
      " 0  0  0  0  ♛  0  0  0 \n",
      "\n",
      " 0  0  0  0  0  0  0  ♛ \n",
      "\n",
      " 0  0  0  0  0  ♛  0  0 \n",
      "\n",
      " 0  0  ♛  0  0  0  0  0 \n",
      "\n",
      " 0  0  0  0  0  0  ♛  0 \n",
      "\n",
      " 0  ♛  0  0  0  0  0  0 \n",
      "\n",
      " 0  0  0  ♛  0  0  0  0 \n",
      "\n"
     ]
    }
   ],
   "source": [
    "print_chessboard(a)"
   ]
  },
  {
   "cell_type": "code",
   "execution_count": null,
   "id": "674d2bf3-4e4c-4c9a-9a4d-5e881a39beee",
   "metadata": {},
   "outputs": [],
   "source": []
  }
 ],
 "metadata": {
  "kernelspec": {
   "display_name": "Python 3 (ipykernel)",
   "language": "python",
   "name": "python3"
  },
  "language_info": {
   "codemirror_mode": {
    "name": "ipython",
    "version": 3
   },
   "file_extension": ".py",
   "mimetype": "text/x-python",
   "name": "python",
   "nbconvert_exporter": "python",
   "pygments_lexer": "ipython3",
   "version": "3.11.9"
  }
 },
 "nbformat": 4,
 "nbformat_minor": 5
}
